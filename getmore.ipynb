{
 "cells": [
  {
   "cell_type": "code",
   "execution_count": 1,
   "metadata": {},
   "outputs": [
    {
     "name": "stderr",
     "output_type": "stream",
     "text": [
      "/Users/destiny/anaconda/lib/python2.7/site-packages/sklearn/cross_validation.py:44: DeprecationWarning: This module was deprecated in version 0.18 in favor of the model_selection module into which all the refactored classes and functions are moved. Also note that the interface of the new CV iterators are different from that of this module. This module will be removed in 0.20.\n",
      "  \"This module will be removed in 0.20.\", DeprecationWarning)\n",
      "/Users/destiny/anaconda/lib/python2.7/site-packages/sklearn/grid_search.py:43: DeprecationWarning: This module was deprecated in version 0.18 in favor of the model_selection module into which all the refactored classes and functions are moved. This module will be removed in 0.20.\n",
      "  DeprecationWarning)\n"
     ]
    }
   ],
   "source": [
    "# -*- coding: utf-8 -*-\n",
    "import pandas as pd\n",
    "import numpy as np\n",
    "import lightgbm as lgb\n",
    "from sklearn import cross_validation, metrics   #Additional     scklearn functions\n",
    "from sklearn.grid_search import GridSearchCV   #Perforing grid search\n",
    "import datetime\n",
    "from math import*\n",
    "from datetime import date\n",
    "from sklearn import preprocessing\n",
    "import geohash\n",
    "from sklearn.model_selection import train_test_split\n",
    "import datetime\n",
    "from sklearn.utils import shuffle  \n",
    "import warnings\n",
    "warnings.filterwarnings(\"ignore\")\n",
    "#geohash 3-11\n",
    "#round 7-9"
   ]
  },
  {
   "cell_type": "code",
   "execution_count": 2,
   "metadata": {
    "collapsed": true
   },
   "outputs": [],
   "source": [
    "################geohash######################\n",
    "def get_geohash(x,precision_i):\n",
    "    return geohash.encode(longitude=float(x.longitude),latitude=float(x.latitude),precision=precision_i)\n",
    "\n",
    "def get_geohash_round1(geohash_u):\n",
    "    return geohash.neighbors(geohash_u)[0]\n",
    "def get_geohash_round2(geohash_u):\n",
    "    return geohash.neighbors(geohash_u)[1]\n",
    "def get_geohash_round3(geohash_u):\n",
    "    return geohash.neighbors(geohash_u)[2]\n",
    "def get_geohash_round4(geohash_u):\n",
    "    return geohash.neighbors(geohash_u)[3]\n",
    "def get_geohash_round5(geohash_u):\n",
    "    return geohash.neighbors(geohash_u)[4]\n",
    "def get_geohash_round6(geohash_u):\n",
    "    return geohash.neighbors(geohash_u)[5]\n",
    "def get_geohash_round7(geohash_u):\n",
    "    return geohash.neighbors(geohash_u)[6]\n",
    "def get_geohash_round8(geohash_u):\n",
    "    return geohash.neighbors(geohash_u)[7]\n",
    "\n"
   ]
  },
  {
   "cell_type": "code",
   "execution_count": 3,
   "metadata": {
    "collapsed": true
   },
   "outputs": [],
   "source": [
    "shop_info=pd.read_csv(\"../ccf_first_round_shop_info.csv\")\n",
    "trade_info=pd.read_csv(\"../ccf_first_round_user_shop_behavior.csv\")\n",
    "all_info=pd.merge(trade_info,shop_info[['shop_id','mall_id']],on='shop_id',how='left')\n",
    "test_info=pd.read_csv(\"../evaluation_public.csv\")\n",
    "train_wifi=pd.read_csv(\"../dealFile/train_index_wifi.csv\")\n",
    "test_wifi=pd.read_csv(\"../dealFile/test_index_wifi.csv\")\n",
    "train_con = pd.concat([all_info,train_wifi],axis=1)\n",
    "test_con=pd.concat([test_info,test_wifi],axis=1)\n",
    "for i in range(0,10):\n",
    "    train_con[['bss'+str(i)]]= train_con[['bss'+str(i)]].fillna('0')\n",
    "    train_con[['sig'+str(i)]]= train_con[['sig'+str(i)]].fillna('-999')\n",
    "    test_con[['bss'+str(i)]]= test_con[['bss'+str(i)]].fillna('0')\n",
    "    test_con[['sig'+str(i)]]= test_con[['sig'+str(i)]].fillna('-999')\n",
    "\n",
    "\n",
    "mall_list=list(set(list(shop_info.mall_id)))\n",
    "\n",
    "\n",
    "mall_data={}\n",
    "for value in mall_list:\n",
    "    mall_data[value]=train_con[train_con.mall_id==value]\n",
    "\n",
    "del trade_info,all_info,test_info"
   ]
  },
  {
   "cell_type": "code",
   "execution_count": 4,
   "metadata": {
    "collapsed": true
   },
   "outputs": [],
   "source": [
    "def processTime(train,test):\n",
    "    ##########time_stamp##########\n",
    "    da=datetime.datetime.now()\n",
    "    l=da\n",
    "    train['day_of_week']=train.time_stamp.astype('str').apply(lambda x:date(int(x[0:4]),int(x[5:7]),int(x[8:10])).weekday()+1)\n",
    "    train['day_of_month']=train.time_stamp.astype('str').apply(lambda x:date(int(x[0:4]),int(x[5:7]),int(x[8:10])).day)\n",
    "    train['hour']=train.time_stamp.astype('str').apply(lambda x:int(x[11:13]))\n",
    "    train['minute']=train.time_stamp.astype('str').apply(lambda x:int(x[14:16]))\n",
    "\n",
    "\n",
    "    #test\n",
    "    test['day_of_week']=test.time_stamp.astype('str').apply(lambda x:date(int(x[0:4]),int(x[5:7]),int(x[8:10])).weekday()+1)\n",
    "    test['day_of_month']=train.time_stamp.astype('str').apply(lambda x:date(int(x[0:4]),int(x[5:7]),int(x[8:10])).day)\n",
    "    test['hour']=test.time_stamp.astype('str').apply(lambda x:int(x[11:13]))\n",
    "    test['minute']=test.time_stamp.astype('str').apply(lambda x:int(x[14:16]))\n",
    "\n",
    "    print \"process Time\"\n",
    "    return train,test"
   ]
  },
  {
   "cell_type": "code",
   "execution_count": 5,
   "metadata": {
    "collapsed": true
   },
   "outputs": [],
   "source": [
    "def processLoc(train,test):\n",
    "    for i in range(8,13):\n",
    "        train['geohash_'+str(i)]=train.apply(get_geohash,axis=1,args=(i,))\n",
    "        test['geohash_'+str(i)]=test.apply(get_geohash,axis=1,args=(i,))\n",
    "    train['geohash_91']=train.geohash_9.apply(get_geohash_round1)\n",
    "    train['geohash_92']=train.geohash_9.apply(get_geohash_round2)\n",
    "    train['geohash_93']=train.geohash_9.apply(get_geohash_round3)\n",
    "    train['geohash_94']=train.geohash_9.apply(get_geohash_round4)\n",
    "    train['geohash_95']=train.geohash_9.apply(get_geohash_round5)\n",
    "    train['geohash_96']=train.geohash_9.apply(get_geohash_round6)\n",
    "    train['geohash_97']=train.geohash_9.apply(get_geohash_round7)\n",
    "    train['geohash_98']=train.geohash_9.apply(get_geohash_round8)\n",
    "    \n",
    "    test['geohash_91']=test.geohash_9.apply(get_geohash_round1)\n",
    "    test['geohash_92']=test.geohash_9.apply(get_geohash_round2)\n",
    "    test['geohash_93']=test.geohash_9.apply(get_geohash_round3)\n",
    "    test['geohash_94']=test.geohash_9.apply(get_geohash_round4)\n",
    "    test['geohash_95']=test.geohash_9.apply(get_geohash_round5)\n",
    "    test['geohash_96']=test.geohash_9.apply(get_geohash_round6)\n",
    "    test['geohash_97']=test.geohash_9.apply(get_geohash_round7)\n",
    "    test['geohash_98']=test.geohash_9.apply(get_geohash_round8)\n",
    "    \n",
    "    train['geohash_101']=train.geohash_10.apply(get_geohash_round1)\n",
    "    train['geohash_102']=train.geohash_10.apply(get_geohash_round2)\n",
    "    train['geohash_103']=train.geohash_10.apply(get_geohash_round3)\n",
    "    train['geohash_104']=train.geohash_10.apply(get_geohash_round4)\n",
    "    train['geohash_105']=train.geohash_10.apply(get_geohash_round5)\n",
    "    train['geohash_106']=train.geohash_10.apply(get_geohash_round6)\n",
    "    train['geohash_107']=train.geohash_10.apply(get_geohash_round7)\n",
    "    train['geohash_108']=train.geohash_10.apply(get_geohash_round8)\n",
    "    \n",
    "    test['geohash_101']=test.geohash_10.apply(get_geohash_round1)\n",
    "    test['geohash_102']=test.geohash_10.apply(get_geohash_round2)\n",
    "    test['geohash_103']=test.geohash_10.apply(get_geohash_round3)\n",
    "    test['geohash_104']=test.geohash_10.apply(get_geohash_round4)\n",
    "    test['geohash_105']=test.geohash_10.apply(get_geohash_round5)\n",
    "    test['geohash_106']=test.geohash_10.apply(get_geohash_round6)\n",
    "    test['geohash_107']=test.geohash_10.apply(get_geohash_round7)\n",
    "    test['geohash_108']=test.geohash_10.apply(get_geohash_round8)\n",
    "    \n",
    "    for i in [8,11,12]:    \n",
    "        geo_lbl_1=preprocessing.LabelEncoder()\n",
    "        geo_lbl_1.fit(list(set(train['geohash_'+str(i)].values)|set(test['geohash_'+str(i)].values)))\n",
    "        train['geohash_'+str(i)]=geo_lbl_1.transform(train['geohash_'+str(i)].values)\n",
    "        test['geohash_'+str(i)]=geo_lbl_1.transform(test['geohash_'+str(i)].values)\n",
    "        \n",
    "    geo_lbl=preprocessing.LabelEncoder()\n",
    "    geo_lbl.fit(list(set(train['geohash_9'].values)|set(test['geohash_9'].values)|\\\n",
    "    set(train['geohash_91'])|set(test['geohash_91'])|\\\n",
    "    set(train['geohash_92'])|set(test['geohash_92'])|\\\n",
    "    set(train['geohash_93'])|set(test['geohash_93'])|\\\n",
    "    set(train['geohash_94'])|set(test['geohash_94'])|\\\n",
    "    set(train['geohash_95'])|set(test['geohash_95'])|\\\n",
    "    set(train['geohash_96'])|set(test['geohash_96'])|\\\n",
    "    set(train['geohash_97'])|set(test['geohash_97'])|\\\n",
    "    set(train['geohash_98'])|set(test['geohash_98'])))\n",
    "\n",
    "    train['geohash_9']=geo_lbl.transform(train['geohash_9'].values)\n",
    "    train['geohash_91']=geo_lbl.transform(train['geohash_91'].values)\n",
    "    train['geohash_92']=geo_lbl.transform(train['geohash_92'].values)\n",
    "    train['geohash_93']=geo_lbl.transform(train['geohash_93'].values)\n",
    "    train['geohash_94']=geo_lbl.transform(train['geohash_94'].values)\n",
    "    train['geohash_95']=geo_lbl.transform(train['geohash_95'].values)\n",
    "    train['geohash_96']=geo_lbl.transform(train['geohash_96'].values)\n",
    "    train['geohash_97']=geo_lbl.transform(train['geohash_97'].values)\n",
    "    train['geohash_98']=geo_lbl.transform(train['geohash_98'].values)\n",
    "\n",
    "    test['geohash_9']=geo_lbl.transform(test['geohash_9'].values)\n",
    "    test['geohash_91']=geo_lbl.transform(test['geohash_91'].values)\n",
    "    test['geohash_92']=geo_lbl.transform(test['geohash_92'].values)\n",
    "    test['geohash_93']=geo_lbl.transform(test['geohash_93'].values)\n",
    "    test['geohash_94']=geo_lbl.transform(test['geohash_94'].values)\n",
    "    test['geohash_95']=geo_lbl.transform(test['geohash_95'].values)\n",
    "    test['geohash_96']=geo_lbl.transform(test['geohash_96'].values)\n",
    "    test['geohash_97']=geo_lbl.transform(test['geohash_97'].values)\n",
    "    test['geohash_98']=geo_lbl.transform(test['geohash_98'].values)\n",
    "    \n",
    "    geo_lbl=preprocessing.LabelEncoder()\n",
    "    geo_lbl.fit(list(set(train['geohash_10'].values)|set(test['geohash_10'].values)|\\\n",
    "    set(train['geohash_101'])|set(test['geohash_101'])|\\\n",
    "    set(train['geohash_102'])|set(test['geohash_102'])|\\\n",
    "    set(train['geohash_103'])|set(test['geohash_103'])|\\\n",
    "    set(train['geohash_104'])|set(test['geohash_104'])|\\\n",
    "    set(train['geohash_105'])|set(test['geohash_105'])|\\\n",
    "    set(train['geohash_106'])|set(test['geohash_106'])|\\\n",
    "    set(train['geohash_107'])|set(test['geohash_107'])|\\\n",
    "    set(train['geohash_108'])|set(test['geohash_108'])))\n",
    "\n",
    "    train['geohash_10']=geo_lbl.transform(train['geohash_10'].values)\n",
    "    train['geohash_101']=geo_lbl.transform(train['geohash_101'].values)\n",
    "    train['geohash_102']=geo_lbl.transform(train['geohash_102'].values)\n",
    "    train['geohash_103']=geo_lbl.transform(train['geohash_103'].values)\n",
    "    train['geohash_104']=geo_lbl.transform(train['geohash_104'].values)\n",
    "    train['geohash_105']=geo_lbl.transform(train['geohash_105'].values)\n",
    "    train['geohash_106']=geo_lbl.transform(train['geohash_106'].values)\n",
    "    train['geohash_107']=geo_lbl.transform(train['geohash_107'].values)\n",
    "    train['geohash_108']=geo_lbl.transform(train['geohash_108'].values)\n",
    "\n",
    "    test['geohash_10']=geo_lbl.transform(test['geohash_10'].values)\n",
    "    test['geohash_101']=geo_lbl.transform(test['geohash_101'].values)\n",
    "    test['geohash_102']=geo_lbl.transform(test['geohash_102'].values)\n",
    "    test['geohash_103']=geo_lbl.transform(test['geohash_103'].values)\n",
    "    test['geohash_104']=geo_lbl.transform(test['geohash_104'].values)\n",
    "    test['geohash_105']=geo_lbl.transform(test['geohash_105'].values)\n",
    "    test['geohash_106']=geo_lbl.transform(test['geohash_106'].values)\n",
    "    test['geohash_107']=geo_lbl.transform(test['geohash_107'].values)\n",
    "    test['geohash_108']=geo_lbl.transform(test['geohash_108'].values)\n",
    "    print \"process geo\"\n",
    "    return train,test"
   ]
  },
  {
   "cell_type": "code",
   "execution_count": 6,
   "metadata": {
    "collapsed": true
   },
   "outputs": [],
   "source": [
    "def processUser(train,test):\n",
    "    a=train.user_id.values\n",
    "    b=test.user_id.values\n",
    "    user_share=list(set(a).intersection(set(b)))\n",
    "    train_n_in=~train.user_id.isin(user_share).values\n",
    "    test_n_in=~test.user_id.isin(user_share).values\n",
    "    train.loc[train_n_in,'user_id']='0'\n",
    "    test.loc[test_n_in,'user_id']='0'\n",
    "    \n",
    "    \n",
    "    lbl=preprocessing.LabelEncoder()\n",
    "    lbl.fit(list(set(train['user_id'].values)|set(test['user_id'].values)))\n",
    "    train['user_id']=lbl.transform(train['user_id'].values)\n",
    "    test['user_id']=lbl.transform(test['user_id'].values)\n",
    "    return train,test"
   ]
  },
  {
   "cell_type": "code",
   "execution_count": 7,
   "metadata": {
    "collapsed": true
   },
   "outputs": [],
   "source": [
    "def proceeWifi(train,test,num=4):\n",
    "    #test\n",
    "    lbl=preprocessing.LabelEncoder()\n",
    "    lbl.fit(list(set(train['connect'].values)|set(train['bss0'].values)|set(train['bss1'].values)|\\\n",
    "    set(train['bss2'].values)|set(train['bss3'].values)|set(train['bss4'].values)|\\\n",
    "    set(train['bss5'].values)|set(train['bss6'].values)|\\\n",
    "    set(train['bss7'].values)|set(train['bss8'].values)|\\\n",
    "    set(train['bss9'].values)|set(test['connect'].values)|\\\n",
    "    set(test['bss0'].values)|set(test['bss1'].values)|\\\n",
    "    set(test['bss2'].values)|set(test['bss3'].values)|set(test['bss4'].values)|\\\n",
    "    set(test['bss5'].values)|set(test['bss6'].values)|\\\n",
    "    set(test['bss7'].values)|set(test['bss8'].values)|set(test['bss9'].values)))\n",
    "    train['connect']=lbl.transform(train['connect'].values)\n",
    "    test['connect']=lbl.transform(test['connect'].values)\n",
    "    train['bss0']=lbl.transform(train['bss0'].values)\n",
    "    test['bss0']=lbl.transform(test['bss0'].values)\n",
    "    train['bss1']=lbl.transform(train['bss1'].values)\n",
    "    test['bss1']=lbl.transform(test['bss1'].values)\n",
    "    train['bss2']=lbl.transform(train['bss2'].values)\n",
    "    test['bss2']=lbl.transform(test['bss2'].values)\n",
    "    train['bss3']=lbl.transform(train['bss3'].values)\n",
    "    test['bss3']=lbl.transform(test['bss3'].values)\n",
    "    train['bss4']=lbl.transform(train['bss4'].values)\n",
    "    test['bss4']=lbl.transform(test['bss4'].values)\n",
    "    train['bss5']=lbl.transform(train['bss5'].values)\n",
    "    test['bss5']=lbl.transform(test['bss5'].values)\n",
    "    train['bss6']=lbl.transform(train['bss6'].values)\n",
    "    test['bss6']=lbl.transform(test['bss6'].values)\n",
    "    train['bss7']=lbl.transform(train['bss7'].values)\n",
    "    test['bss7']=lbl.transform(test['bss7'].values)\n",
    "    train['bss8']=lbl.transform(train['bss8'].values)\n",
    "    test['bss8']=lbl.transform(test['bss8'].values)\n",
    "    train['bss9']=lbl.transform(train['bss9'].values)\n",
    "    test['bss9']=lbl.transform(test['bss9'].values)\n",
    "    \n",
    "    train1=pd.concat([train,test])\n",
    "    l=[]\n",
    "    wifi_dict = {}\n",
    "    for index,row in train1.iterrows():\n",
    "        wifi_list = [wifi.split('|') for wifi in row['wifi_infos'].split(';')]\n",
    "        for i in wifi_list:\n",
    "            row[i[0]]=int(i[1])\n",
    "            if i[0] not in wifi_dict:\n",
    "                wifi_dict[i[0]]=1\n",
    "            else:\n",
    "                wifi_dict[i[0]]+=1\n",
    "        l.append(row)  \n",
    "    delate_wifi=[]\n",
    "    for i in wifi_dict:\n",
    "        if wifi_dict[i]<20:\n",
    "            delate_wifi.append(i)\n",
    "    m=[]\n",
    "    for row in l:\n",
    "        new={}\n",
    "        for n in row.keys():\n",
    "            if n not in delate_wifi:\n",
    "                new[n]=row[n]\n",
    "        m.append(new)\n",
    "    train1=pd.DataFrame(m)\n",
    "    df_train=train1[train1.shop_id.notnull()]\n",
    "    df_test=train1[train1.shop_id.isnull()]\n",
    "\n",
    "    return df_train,df_test"
   ]
  },
  {
   "cell_type": "code",
   "execution_count": 8,
   "metadata": {
    "collapsed": true
   },
   "outputs": [],
   "source": [
    "fea_imp=[0  for i in range(0,52)]\n",
    "s_times=1"
   ]
  },
  {
   "cell_type": "code",
   "execution_count": 9,
   "metadata": {
    "collapsed": true
   },
   "outputs": [],
   "source": [
    "def generateData11(mall_data,mall_id):\n",
    "    print str(s_times) +\"  \"+str(mall_id)\n",
    "    print datetime.datetime.now()\n",
    "    train=mall_data\n",
    "    test=test_con[test_con.mall_id==mall_id]\n",
    "    \n",
    "    shop_dict = {}\n",
    "    exam_shop = shop_info[shop_info.mall_id == mall_id]\n",
    "    i1 = 0\n",
    "    for index, row in exam_shop.iterrows():\n",
    "        shop_dict[row.shop_id] = i1\n",
    "        i1 = i1 + 1\n",
    "    shop_ito_shop = dict((v, k) for k, v in shop_dict.iteritems())\n",
    "    \n",
    "    train,test=processUser(train,test)\n",
    "    train,test=processTime(train,test)\n",
    "    train,test=processLoc(train,test)\n",
    "    train,test=proceeWifi(train,test)    \n",
    "    train=shuffle(train)\n",
    "    \n",
    "    label_train=train[['shop_id']]\n",
    "    label_num=len(shop_info[shop_info.mall_id==mall_id].shop_id.values)\n",
    "    label_to_train=[]\n",
    "    label_train=label_train.shop_id.values\n",
    "    for l in label_train:\n",
    "        label_to_train.append(shop_dict[l])\n",
    "\n",
    "        \n",
    "\n",
    "    train.drop(['shop_id','time_stamp','count', 'mall_id','wifi_infos','row_id'],axis=1,inplace=True)\n",
    "    row_id_list = test.row_id.values\n",
    "    test.drop(['row_id','time_stamp','mall_id','count','wifi_infos','shop_id'],axis=1,inplace=True)\n",
    "    \n",
    "\n",
    "        \n",
    "    \n",
    "    xg_train=train.as_matrix()\n",
    "    xg_test=test.as_matrix()\n",
    "    \n",
    "\n",
    "    \n",
    "    gbmclf=lgb.LGBMClassifier(learning_rate=0.05,bagging_freq=2,use_missing=True,zero_as_missing=False,lambda_l2=0.1,feature_fraction=0.8,min_data_in_leaf=200,bagging_fraction=0.9,min_sum_hessian_in_leaf=0.1,n_estimators=400,max_depth=9,num_class=label_num,subsample=0.8,boosting_type='gbdt',max_bin=255,min_child_weight=1,objective='multiclass',metric='multi_logloss')\n",
    "    \n",
    "    print \"start fit\"\n",
    "    print datetime.datetime.now()\n",
    "    gbmclf.fit(xg_train,label_to_train)\n",
    "    print datetime.datetime.now()\n",
    "    print gbmclf.score(xg_train,label_to_train)\n",
    "    \n",
    "    test_res = gbmclf.predict(xg_test)\n",
    "    \n",
    "\n",
    "    with open(\"res1102.csv\",'a+') as f:\n",
    "        for i in range(len(test_res)):\n",
    "            f.write(str(row_id_list[i]) + ',' + str(shop_ito_shop[test_res[i]] + '\\n'))\n",
    "    print datetime.datetime.now()\n",
    "    \n",
    "    \n",
    "    \n",
    "        \n",
    "    "
   ]
  },
  {
   "cell_type": "code",
   "execution_count": 19,
   "metadata": {},
   "outputs": [
    {
     "name": "stdout",
     "output_type": "stream",
     "text": [
      "104  m_1377\n",
      "2017-11-03 17:03:19.117049\n",
      "process Time\n",
      "process geo\n",
      "start fit\n",
      "2017-11-03 17:13:10.224004\n",
      "2017-11-03 17:25:37.279136\n",
      "0.998732728313\n",
      "2017-11-03 17:26:47.044155\n",
      "105  m_4079\n",
      "2017-11-03 17:26:47.386924\n",
      "process Time\n",
      "process geo\n",
      "start fit\n",
      "2017-11-03 17:35:05.884174\n",
      "2017-11-03 17:44:17.791422\n",
      "0.996944565692\n",
      "2017-11-03 17:45:22.329136\n",
      "106  m_968\n",
      "2017-11-03 17:45:22.675852\n",
      "process Time\n",
      "process geo\n",
      "start fit\n",
      "2017-11-03 17:50:29.181554\n",
      "2017-11-03 17:55:49.592029\n",
      "1.0\n",
      "2017-11-03 17:56:22.297141\n",
      "107  m_5767\n",
      "2017-11-03 17:56:22.469540\n",
      "process Time\n",
      "process geo\n",
      "start fit\n",
      "2017-11-03 17:58:53.561197\n",
      "2017-11-03 18:00:39.435566\n",
      "1.0\n",
      "2017-11-03 18:00:52.694357\n",
      "108  m_5076\n",
      "2017-11-03 18:00:52.833472\n",
      "process Time\n",
      "process geo\n",
      "start fit\n",
      "2017-11-03 18:14:52.089474\n",
      "2017-11-03 18:26:15.699418\n",
      "1.0\n",
      "2017-11-03 18:27:32.311822\n",
      "109  m_1175\n",
      "2017-11-03 18:27:32.751348\n",
      "process Time\n",
      "process geo\n",
      "start fit\n",
      "2017-11-03 18:46:33.723355\n",
      "2017-11-03 19:05:26.886745\n",
      "1.0\n",
      "2017-11-03 19:07:00.370384\n",
      "110  m_2467\n",
      "2017-11-03 19:07:00.805631\n",
      "process Time\n",
      "process geo\n",
      "start fit\n",
      "2017-11-03 19:21:15.834157\n",
      "2017-11-03 19:30:21.890204\n",
      "0.999953336444\n",
      "2017-11-03 19:31:13.562789\n",
      "111  m_2270\n",
      "2017-11-03 19:31:13.799483\n",
      "process Time\n",
      "process geo\n",
      "start fit\n",
      "2017-11-03 19:34:41.415743\n",
      "2017-11-03 19:36:46.493025\n",
      "1.0\n",
      "2017-11-03 19:37:01.865899\n",
      "112  m_9068\n",
      "2017-11-03 19:37:01.958886\n",
      "process Time\n",
      "process geo\n"
     ]
    },
    {
     "name": "stderr",
     "output_type": "stream",
     "text": [
      "ERROR:root:Internal Python error in the inspect module.\n",
      "Below is the traceback from this internal error.\n",
      "\n"
     ]
    },
    {
     "name": "stdout",
     "output_type": "stream",
     "text": [
      "Traceback (most recent call last):\n",
      "  File \"/Users/destiny/anaconda/lib/python2.7/site-packages/IPython/core/ultratb.py\", line 1132, in get_records\n",
      "    return _fixed_getinnerframes(etb, number_of_lines_of_context, tb_offset)\n",
      "  File \"/Users/destiny/anaconda/lib/python2.7/site-packages/IPython/core/ultratb.py\", line 313, in wrapped\n",
      "    return f(*args, **kwargs)\n",
      "  File \"/Users/destiny/anaconda/lib/python2.7/site-packages/IPython/core/ultratb.py\", line 376, in _fixed_getinnerframes\n",
      "    lines = ulinecache.getlines(file)[start:end]\n",
      "  File \"/Users/destiny/anaconda/lib/python2.7/site-packages/IPython/utils/ulinecache.py\", line 37, in getlines\n",
      "    return [l.decode(encoding, 'replace') for l in lines]\n",
      "  File \"/Users/destiny/anaconda/lib/python2.7/encodings/utf_8.py\", line 15, in decode\n",
      "    def decode(input, errors='strict'):\n",
      "KeyboardInterrupt\n"
     ]
    },
    {
     "ename": "IndexError",
     "evalue": "string index out of range",
     "output_type": "error",
     "traceback": [
      "\u001b[0;31m---------------------------------------------------------------------------\u001b[0m",
      "\u001b[0;31mIndexError\u001b[0m                                Traceback (most recent call last)",
      "\u001b[0;32m/Users/destiny/anaconda/lib/python2.7/site-packages/IPython/core/interactiveshell.pyc\u001b[0m in \u001b[0;36mrun_code\u001b[0;34m(self, code_obj, result)\u001b[0m\n\u001b[1;32m   2896\u001b[0m             \u001b[0;32mif\u001b[0m \u001b[0mresult\u001b[0m \u001b[0;32mis\u001b[0m \u001b[0;32mnot\u001b[0m \u001b[0mNone\u001b[0m\u001b[0;34m:\u001b[0m\u001b[0;34m\u001b[0m\u001b[0m\n\u001b[1;32m   2897\u001b[0m                 \u001b[0mresult\u001b[0m\u001b[0;34m.\u001b[0m\u001b[0merror_in_exec\u001b[0m \u001b[0;34m=\u001b[0m \u001b[0msys\u001b[0m\u001b[0;34m.\u001b[0m\u001b[0mexc_info\u001b[0m\u001b[0;34m(\u001b[0m\u001b[0;34m)\u001b[0m\u001b[0;34m[\u001b[0m\u001b[0;36m1\u001b[0m\u001b[0;34m]\u001b[0m\u001b[0;34m\u001b[0m\u001b[0m\n\u001b[0;32m-> 2898\u001b[0;31m             \u001b[0mself\u001b[0m\u001b[0;34m.\u001b[0m\u001b[0mshowtraceback\u001b[0m\u001b[0;34m(\u001b[0m\u001b[0;34m)\u001b[0m\u001b[0;34m\u001b[0m\u001b[0m\n\u001b[0m\u001b[1;32m   2899\u001b[0m         \u001b[0;32melse\u001b[0m\u001b[0;34m:\u001b[0m\u001b[0;34m\u001b[0m\u001b[0m\n\u001b[1;32m   2900\u001b[0m             \u001b[0moutflag\u001b[0m \u001b[0;34m=\u001b[0m \u001b[0;36m0\u001b[0m\u001b[0;34m\u001b[0m\u001b[0m\n",
      "\u001b[0;32m/Users/destiny/anaconda/lib/python2.7/site-packages/IPython/core/interactiveshell.pyc\u001b[0m in \u001b[0;36mshowtraceback\u001b[0;34m(self, exc_tuple, filename, tb_offset, exception_only)\u001b[0m\n\u001b[1;32m   1822\u001b[0m                     \u001b[0;32mexcept\u001b[0m \u001b[0mException\u001b[0m\u001b[0;34m:\u001b[0m\u001b[0;34m\u001b[0m\u001b[0m\n\u001b[1;32m   1823\u001b[0m                         stb = self.InteractiveTB.structured_traceback(etype,\n\u001b[0;32m-> 1824\u001b[0;31m                                             value, tb, tb_offset=tb_offset)\n\u001b[0m\u001b[1;32m   1825\u001b[0m \u001b[0;34m\u001b[0m\u001b[0m\n\u001b[1;32m   1826\u001b[0m                     \u001b[0mself\u001b[0m\u001b[0;34m.\u001b[0m\u001b[0m_showtraceback\u001b[0m\u001b[0;34m(\u001b[0m\u001b[0metype\u001b[0m\u001b[0;34m,\u001b[0m \u001b[0mvalue\u001b[0m\u001b[0;34m,\u001b[0m \u001b[0mstb\u001b[0m\u001b[0;34m)\u001b[0m\u001b[0;34m\u001b[0m\u001b[0m\n",
      "\u001b[0;32m/Users/destiny/anaconda/lib/python2.7/site-packages/IPython/core/ultratb.pyc\u001b[0m in \u001b[0;36mstructured_traceback\u001b[0;34m(self, etype, value, tb, tb_offset, number_of_lines_of_context)\u001b[0m\n\u001b[1;32m   1410\u001b[0m         \u001b[0mself\u001b[0m\u001b[0;34m.\u001b[0m\u001b[0mtb\u001b[0m \u001b[0;34m=\u001b[0m \u001b[0mtb\u001b[0m\u001b[0;34m\u001b[0m\u001b[0m\n\u001b[1;32m   1411\u001b[0m         return FormattedTB.structured_traceback(\n\u001b[0;32m-> 1412\u001b[0;31m             self, etype, value, tb, tb_offset, number_of_lines_of_context)\n\u001b[0m\u001b[1;32m   1413\u001b[0m \u001b[0;34m\u001b[0m\u001b[0m\n\u001b[1;32m   1414\u001b[0m \u001b[0;34m\u001b[0m\u001b[0m\n",
      "\u001b[0;32m/Users/destiny/anaconda/lib/python2.7/site-packages/IPython/core/ultratb.pyc\u001b[0m in \u001b[0;36mstructured_traceback\u001b[0;34m(self, etype, value, tb, tb_offset, number_of_lines_of_context)\u001b[0m\n\u001b[1;32m   1318\u001b[0m             \u001b[0;31m# Verbose modes need a full traceback\u001b[0m\u001b[0;34m\u001b[0m\u001b[0;34m\u001b[0m\u001b[0m\n\u001b[1;32m   1319\u001b[0m             return VerboseTB.structured_traceback(\n\u001b[0;32m-> 1320\u001b[0;31m                 \u001b[0mself\u001b[0m\u001b[0;34m,\u001b[0m \u001b[0metype\u001b[0m\u001b[0;34m,\u001b[0m \u001b[0mvalue\u001b[0m\u001b[0;34m,\u001b[0m \u001b[0mtb\u001b[0m\u001b[0;34m,\u001b[0m \u001b[0mtb_offset\u001b[0m\u001b[0;34m,\u001b[0m \u001b[0mnumber_of_lines_of_context\u001b[0m\u001b[0;34m\u001b[0m\u001b[0m\n\u001b[0m\u001b[1;32m   1321\u001b[0m             )\n\u001b[1;32m   1322\u001b[0m         \u001b[0;32melse\u001b[0m\u001b[0;34m:\u001b[0m\u001b[0;34m\u001b[0m\u001b[0m\n",
      "\u001b[0;32m/Users/destiny/anaconda/lib/python2.7/site-packages/IPython/core/ultratb.pyc\u001b[0m in \u001b[0;36mstructured_traceback\u001b[0;34m(self, etype, evalue, etb, tb_offset, number_of_lines_of_context)\u001b[0m\n\u001b[1;32m   1202\u001b[0m                 \u001b[0mstructured_traceback_parts\u001b[0m \u001b[0;34m+=\u001b[0m \u001b[0mformatted_exception\u001b[0m\u001b[0;34m\u001b[0m\u001b[0m\n\u001b[1;32m   1203\u001b[0m         \u001b[0;32melse\u001b[0m\u001b[0;34m:\u001b[0m\u001b[0;34m\u001b[0m\u001b[0m\n\u001b[0;32m-> 1204\u001b[0;31m             \u001b[0mstructured_traceback_parts\u001b[0m \u001b[0;34m+=\u001b[0m \u001b[0mformatted_exception\u001b[0m\u001b[0;34m[\u001b[0m\u001b[0;36m0\u001b[0m\u001b[0;34m]\u001b[0m\u001b[0;34m\u001b[0m\u001b[0m\n\u001b[0m\u001b[1;32m   1205\u001b[0m \u001b[0;34m\u001b[0m\u001b[0m\n\u001b[1;32m   1206\u001b[0m         \u001b[0;32mreturn\u001b[0m \u001b[0mstructured_traceback_parts\u001b[0m\u001b[0;34m\u001b[0m\u001b[0m\n",
      "\u001b[0;31mIndexError\u001b[0m: string index out of range"
     ]
    }
   ],
   "source": [
    "for i in mall_data.keys()[-11:]:\n",
    "    generateData11(mall_data[i],i)\n",
    "    s_times=s_times+1"
   ]
  },
  {
   "cell_type": "code",
   "execution_count": null,
   "metadata": {
    "collapsed": true
   },
   "outputs": [],
   "source": [
    "mall_data"
   ]
  },
  {
   "cell_type": "code",
   "execution_count": 12,
   "metadata": {
    "collapsed": true
   },
   "outputs": [],
   "source": [
    "ss=test_con[test_con.row_id==483762]"
   ]
  },
  {
   "cell_type": "code",
   "execution_count": 13,
   "metadata": {},
   "outputs": [
    {
     "data": {
      "text/html": [
       "<div>\n",
       "<style scoped>\n",
       "    .dataframe tbody tr th:only-of-type {\n",
       "        vertical-align: middle;\n",
       "    }\n",
       "\n",
       "    .dataframe tbody tr th {\n",
       "        vertical-align: top;\n",
       "    }\n",
       "\n",
       "    .dataframe thead th {\n",
       "        text-align: right;\n",
       "    }\n",
       "</style>\n",
       "<table border=\"1\" class=\"dataframe\">\n",
       "  <thead>\n",
       "    <tr style=\"text-align: right;\">\n",
       "      <th></th>\n",
       "      <th>row_id</th>\n",
       "      <th>user_id</th>\n",
       "      <th>mall_id</th>\n",
       "      <th>time_stamp</th>\n",
       "      <th>longitude</th>\n",
       "      <th>latitude</th>\n",
       "      <th>wifi_infos</th>\n",
       "      <th>count</th>\n",
       "      <th>connect</th>\n",
       "      <th>bss0</th>\n",
       "      <th>...</th>\n",
       "      <th>bss5</th>\n",
       "      <th>sig5</th>\n",
       "      <th>bss6</th>\n",
       "      <th>sig6</th>\n",
       "      <th>bss7</th>\n",
       "      <th>sig7</th>\n",
       "      <th>bss8</th>\n",
       "      <th>sig8</th>\n",
       "      <th>bss9</th>\n",
       "      <th>sig9</th>\n",
       "    </tr>\n",
       "  </thead>\n",
       "  <tbody>\n",
       "    <tr>\n",
       "      <th>483761</th>\n",
       "      <td>483762</td>\n",
       "      <td>u_63863827</td>\n",
       "      <td>m_3916</td>\n",
       "      <td>2017-09-10 19:00</td>\n",
       "      <td>122.141734</td>\n",
       "      <td>39.819165</td>\n",
       "      <td>b_29944458|-74|false;b_29941995|-60|false;b_29...</td>\n",
       "      <td>10</td>\n",
       "      <td>0</td>\n",
       "      <td>b_29944658</td>\n",
       "      <td>...</td>\n",
       "      <td>b_29944592</td>\n",
       "      <td>-66</td>\n",
       "      <td>b_41129846</td>\n",
       "      <td>-71</td>\n",
       "      <td>b_29941949</td>\n",
       "      <td>-73</td>\n",
       "      <td>b_29944458</td>\n",
       "      <td>-74</td>\n",
       "      <td>b_29944644</td>\n",
       "      <td>-83</td>\n",
       "    </tr>\n",
       "  </tbody>\n",
       "</table>\n",
       "<p>1 rows × 29 columns</p>\n",
       "</div>"
      ],
      "text/plain": [
       "        row_id     user_id mall_id        time_stamp   longitude   latitude  \\\n",
       "483761  483762  u_63863827  m_3916  2017-09-10 19:00  122.141734  39.819165   \n",
       "\n",
       "                                               wifi_infos  count connect  \\\n",
       "483761  b_29944458|-74|false;b_29941995|-60|false;b_29...     10       0   \n",
       "\n",
       "              bss0 ...         bss5 sig5        bss6 sig6        bss7 sig7  \\\n",
       "483761  b_29944658 ...   b_29944592  -66  b_41129846  -71  b_29941949  -73   \n",
       "\n",
       "              bss8 sig8        bss9 sig9  \n",
       "483761  b_29944458  -74  b_29944644  -83  \n",
       "\n",
       "[1 rows x 29 columns]"
      ]
     },
     "execution_count": 13,
     "metadata": {},
     "output_type": "execute_result"
    }
   ],
   "source": [
    "ss"
   ]
  },
  {
   "cell_type": "code",
   "execution_count": 18,
   "metadata": {},
   "outputs": [
    {
     "data": {
      "text/plain": [
       "['m_1377',\n",
       " 'm_4079',\n",
       " 'm_968',\n",
       " 'm_5767',\n",
       " 'm_5076',\n",
       " 'm_1175',\n",
       " 'm_2467',\n",
       " 'm_2270',\n",
       " 'm_9068',\n",
       " 'm_4572',\n",
       " 'm_8093']"
      ]
     },
     "execution_count": 18,
     "metadata": {},
     "output_type": "execute_result"
    }
   ],
   "source": [
    "mall_data.keys()[-11:]"
   ]
  },
  {
   "cell_type": "code",
   "execution_count": null,
   "metadata": {
    "collapsed": true
   },
   "outputs": [],
   "source": []
  },
  {
   "cell_type": "code",
   "execution_count": 27,
   "metadata": {},
   "outputs": [
    {
     "name": "stdout",
     "output_type": "stream",
     "text": [
      "2017-11-02 17:35:15.564681\n",
      "1  m_1263\n",
      "2017-11-02 17:35:15.565131\n",
      "process Time\n",
      "process geo\n",
      "1\n",
      "2\n",
      "2017-11-02 17:38:15.638374\n"
     ]
    }
   ],
   "source": [
    "print datetime.datetime.now()\n",
    "train1,label1,test1=generateData11(mall_data['m_1263'],'m_1263')\n",
    "print datetime.datetime.now()"
   ]
  },
  {
   "cell_type": "code",
   "execution_count": 38,
   "metadata": {
    "collapsed": true
   },
   "outputs": [],
   "source": [
    "label_num=len(shop_info[shop_info.mall_id=='m_1263'].shop_id.values)"
   ]
  },
  {
   "cell_type": "code",
   "execution_count": 34,
   "metadata": {
    "collapsed": true
   },
   "outputs": [],
   "source": [
    "train_data = lgb.Dataset(train1, label=label1)"
   ]
  },
  {
   "cell_type": "code",
   "execution_count": 64,
   "metadata": {
    "collapsed": true
   },
   "outputs": [],
   "source": [
    "gbmclf=lgb.LGBMClassifier(learning_rate=0.08,bagging_freq=2,use_missing=True,zero_as_missing=False,lambda_l2=0.1,feature_fraction=0.8,min_data_in_leaf=200,bagging_fraction=0.9,min_sum_hessian_in_leaf=0.1,n_estimators=1000,max_depth=9,num_class=label_num,subsample=0.8,boosting_type='gbdt',max_bin=255,min_child_weight=1,objective='multiclass',metric='multi_logloss')\n",
    "    "
   ]
  },
  {
   "cell_type": "code",
   "execution_count": 65,
   "metadata": {},
   "outputs": [
    {
     "data": {
      "text/plain": [
       "GridSearchCV(cv=5, error_score='raise',\n",
       "       estimator=LGBMClassifier(bagging_fraction=0.9, boosting_type='gbdt',\n",
       "        colsample_bytree=1.0, feature_fraction=0.8, lambda_l2=0.1,\n",
       "        learning_rate=0.1, max_bin=255, max_depth=9,\n",
       "        metric='multi_logloss', min_child_samples=10, min_child_weight=1,\n",
       "        min_data_in_leaf=200, min_spl...ple=0.8, subsample_for_bin=50000, subsample_freq=1,\n",
       "        use_missing=True, zero_as_missing=False),\n",
       "       fit_params={}, iid=True, n_jobs=1,\n",
       "       param_grid={'bagging_freq': [2, 4, 10, 15]},\n",
       "       pre_dispatch='2*n_jobs', refit=True, scoring=None, verbose=0)"
      ]
     },
     "execution_count": 65,
     "metadata": {},
     "output_type": "execute_result"
    }
   ],
   "source": [
    "param={\n",
    "    'bagging_freq':[12,3],\n",
    "}\n",
    "gcv=GridSearchCV(gbmclf,cv=5,param_grid=param)\n",
    "gcv.fit(train1.as_matrix(),label1)"
   ]
  },
  {
   "cell_type": "code",
   "execution_count": 66,
   "metadata": {},
   "outputs": [
    {
     "name": "stdout",
     "output_type": "stream",
     "text": [
      "0.845641191014\n",
      "{'bagging_freq': 2}\n"
     ]
    }
   ],
   "source": [
    "print gcv.best_score_\n",
    "print gcv.best_params_"
   ]
  },
  {
   "cell_type": "code",
   "execution_count": 63,
   "metadata": {},
   "outputs": [
    {
     "name": "stdout",
     "output_type": "stream",
     "text": [
      "0.844136300118\n",
      "{'max_depth': 8}\n"
     ]
    }
   ],
   "source": [
    "print gcv.best_score_\n",
    "print gcv.best_params_"
   ]
  },
  {
   "cell_type": "code",
   "execution_count": 59,
   "metadata": {},
   "outputs": [
    {
     "name": "stdout",
     "output_type": "stream",
     "text": [
      "0.842846393636\n",
      "{'lambda_l2': 0.1}\n"
     ]
    }
   ],
   "source": []
  },
  {
   "cell_type": "code",
   "execution_count": 55,
   "metadata": {},
   "outputs": [
    {
     "data": {
      "text/plain": [
       "0.8415564871546812"
      ]
     },
     "execution_count": 55,
     "metadata": {},
     "output_type": "execute_result"
    }
   ],
   "source": [
    "gcv.best_score_"
   ]
  },
  {
   "cell_type": "code",
   "execution_count": 56,
   "metadata": {},
   "outputs": [
    {
     "data": {
      "text/plain": [
       "{'zero_as_missing': False}"
      ]
     },
     "execution_count": 56,
     "metadata": {},
     "output_type": "execute_result"
    }
   ],
   "source": [
    "gcv.best_params_"
   ]
  },
  {
   "cell_type": "code",
   "execution_count": 57,
   "metadata": {},
   "outputs": [
    {
     "data": {
      "text/plain": [
       "[mean: 0.83994, std: 0.00822, params: {'zero_as_missing': True},\n",
       " mean: 0.84156, std: 0.00528, params: {'zero_as_missing': False}]"
      ]
     },
     "execution_count": 57,
     "metadata": {},
     "output_type": "execute_result"
    }
   ],
   "source": [
    "gcv.grid_scores_"
   ]
  },
  {
   "cell_type": "code",
   "execution_count": 52,
   "metadata": {},
   "outputs": [
    {
     "data": {
      "text/plain": [
       "{}"
      ]
     },
     "execution_count": 52,
     "metadata": {},
     "output_type": "execute_result"
    }
   ],
   "source": [
    "gcv.best_params_"
   ]
  },
  {
   "cell_type": "code",
   "execution_count": 43,
   "metadata": {},
   "outputs": [
    {
     "data": {
      "text/plain": [
       "0.99828012469095995"
      ]
     },
     "execution_count": 43,
     "metadata": {},
     "output_type": "execute_result"
    }
   ],
   "source": [
    "gbmclf.score(train1.as_matrix(),label1)"
   ]
  },
  {
   "cell_type": "code",
   "execution_count": null,
   "metadata": {
    "collapsed": true
   },
   "outputs": [],
   "source": []
  },
  {
   "cell_type": "code",
   "execution_count": null,
   "metadata": {
    "collapsed": true
   },
   "outputs": [],
   "source": []
  },
  {
   "cell_type": "code",
   "execution_count": 32,
   "metadata": {},
   "outputs": [
    {
     "data": {
      "text/plain": [
       "9303"
      ]
     },
     "execution_count": 32,
     "metadata": {},
     "output_type": "execute_result"
    }
   ],
   "source": [
    "len(train1)"
   ]
  },
  {
   "cell_type": "code",
   "execution_count": 33,
   "metadata": {},
   "outputs": [
    {
     "data": {
      "text/plain": [
       "9303"
      ]
     },
     "execution_count": 33,
     "metadata": {},
     "output_type": "execute_result"
    }
   ],
   "source": [
    "len(label1)"
   ]
  },
  {
   "cell_type": "code",
   "execution_count": 30,
   "metadata": {},
   "outputs": [
    {
     "data": {
      "text/plain": [
       "682"
      ]
     },
     "execution_count": 30,
     "metadata": {},
     "output_type": "execute_result"
    }
   ],
   "source": [
    "len(test1.columns)"
   ]
  },
  {
   "cell_type": "code",
   "execution_count": null,
   "metadata": {
    "collapsed": true
   },
   "outputs": [],
   "source": []
  },
  {
   "cell_type": "code",
   "execution_count": null,
   "metadata": {
    "collapsed": true
   },
   "outputs": [],
   "source": []
  },
  {
   "cell_type": "code",
   "execution_count": 16,
   "metadata": {},
   "outputs": [
    {
     "data": {
      "text/plain": [
       "Index([u'bss0', u'bss1', u'bss2', u'bss3', u'bss4', u'bss5', u'bss6', u'bss7',\n",
       "       u'bss8', u'bss9', u'connect', u'count', u'latitude', u'longitude',\n",
       "       u'mall_id', u'row_id', u'shop_id', u'sig0', u'sig1', u'sig2', u'sig3',\n",
       "       u'sig4', u'sig5', u'sig6', u'sig7', u'sig8', u'sig9', u'time_stamp',\n",
       "       u'user_id', u'wifi_infos'],\n",
       "      dtype='object')"
      ]
     },
     "execution_count": 16,
     "metadata": {},
     "output_type": "execute_result"
    }
   ],
   "source": [
    "train1.columns[-30:]"
   ]
  },
  {
   "cell_type": "code",
   "execution_count": 17,
   "metadata": {},
   "outputs": [
    {
     "data": {
      "text/plain": [
       "Index([u'bss0', u'bss1', u'bss2', u'bss3', u'bss4', u'bss5', u'bss6', u'bss7',\n",
       "       u'bss8', u'bss9', u'connect', u'count', u'latitude', u'longitude',\n",
       "       u'mall_id', u'row_id', u'shop_id', u'sig0', u'sig1', u'sig2', u'sig3',\n",
       "       u'sig4', u'sig5', u'sig6', u'sig7', u'sig8', u'sig9', u'time_stamp',\n",
       "       u'user_id', u'wifi_infos'],\n",
       "      dtype='object')"
      ]
     },
     "execution_count": 17,
     "metadata": {},
     "output_type": "execute_result"
    }
   ],
   "source": [
    "test1.columns[-30:]"
   ]
  },
  {
   "cell_type": "code",
   "execution_count": null,
   "metadata": {
    "collapsed": true
   },
   "outputs": [],
   "source": []
  }
 ],
 "metadata": {
  "kernelspec": {
   "display_name": "Python 2",
   "language": "python",
   "name": "python2"
  },
  "language_info": {
   "codemirror_mode": {
    "name": "ipython",
    "version": 2
   },
   "file_extension": ".py",
   "mimetype": "text/x-python",
   "name": "python",
   "nbconvert_exporter": "python",
   "pygments_lexer": "ipython2",
   "version": "2.7.13"
  }
 },
 "nbformat": 4,
 "nbformat_minor": 2
}
